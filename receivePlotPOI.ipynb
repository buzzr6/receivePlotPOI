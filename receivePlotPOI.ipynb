{
 "cells": [
  {
   "cell_type": "code",
   "execution_count": 1,
   "metadata": {},
   "outputs": [],
   "source": [
    "import socket\n",
    "import time\n",
    "import json\n",
    "import matplotlib.pyplot as plt\n",
    "import numpy as np\n",
    "from threading import Thread\n",
    "import traceback"
   ]
  },
  {
   "cell_type": "code",
   "execution_count": 2,
   "metadata": {},
   "outputs": [],
   "source": [
    "UDP_IP_ADDRESS = \"127.0.0.1\"\n",
    "UDP_PORT_NO = 1234"
   ]
  },
  {
   "cell_type": "code",
   "execution_count": 3,
   "metadata": {},
   "outputs": [],
   "source": [
    "serverSock = socket.socket(socket.AF_INET, socket.SOCK_STREAM)\n",
    "#serverSock.setblocking(0)\n",
    "serverSock.setsockopt(socket.SOL_SOCKET, socket.SO_REUSEADDR, 1)\n",
    "serverSock.bind((UDP_IP_ADDRESS, UDP_PORT_NO))\n",
    "serverSock.listen(5)"
   ]
  },
  {
   "cell_type": "code",
   "execution_count": 60,
   "metadata": {},
   "outputs": [
    {
     "name": "stdout",
     "output_type": "stream",
     "text": [
      "Connection accepted from:  ('127.0.0.1', 54613)\n",
      "Msg:  {\"lat\":6,\"lon\":2.02}\n",
      "x: [2.02]\n",
      "y: [6]\n"
     ]
    },
    {
     "data": {
      "image/png": "[encoded data removed]",
      "text/plain": [
       "<matplotlib.figure.Figure at 0x17c860b6f28>"
      ]
     },
     "metadata": {},
     "output_type": "display_data"
    },
    {
     "name": "stdout",
     "output_type": "stream",
     "text": [
      "Msg:  {\"lat\":5,\"lon\":2.02}\n",
      "x: [2.02, 2.02]\n",
      "y: [6, 5]\n",
      "Msg:  {\"lat\":5,\"lon\":2.02}\n",
      "x: [2.02, 2.02, 2.02]\n",
      "y: [6, 5, 5]\n",
      "Msg:  {\"lat\":5,\"lon\":2}\n",
      "x: [2.02, 2.02, 2.02, 2]\n",
      "y: [6, 5, 5, 5]\n",
      "Msg:  {\"lat\":1,\"lon\":2}\n",
      "x: [2.02, 2.02, 2.02, 2, 2]\n",
      "y: [6, 5, 5, 5, 1]\n",
      "Msg:  \n",
      "Done.\n"
     ]
    },
    {
     "data": {
      "image/png": "[encoded data removed]",
      "text/plain": [
       "<matplotlib.figure.Figure at 0x17c860fb898>"
      ]
     },
     "metadata": {},
     "output_type": "display_data"
    }
   ],
   "source": [
    "x = []\n",
    "y = []\n",
    "fig,ax=plt.subplots()\n",
    "\n",
    "tmp=0\n",
    "connected = False\n",
    "timeout = time.time() + 60*45\n",
    "while time.time() < timeout:\n",
    "    # Wait for connection\n",
    "    while not connected and time.time() < timeout:\n",
    "        try:\n",
    "            conn,addr = serverSock.accept()\n",
    "            connected = True\n",
    "            print(\"Connection accepted from: \", addr)\n",
    "            break;\n",
    "        except socket.error:\n",
    "            ''''''\n",
    "    \n",
    "    # Accept messages\n",
    "    if connected:\n",
    "        try:\n",
    "            # Receive message\n",
    "            data = conn.recv(1024)\n",
    "            msg = data.decode()\n",
    "            print(\"Msg: \", msg)\n",
    "            \n",
    "            # Graceful exit condition\n",
    "            if msg == \"\":\n",
    "                break;\n",
    "                \n",
    "            # Extract data\n",
    "            obj = json.loads(msg)\n",
    "            x.append(obj['lon'])\n",
    "            y.append(obj['lat'])\n",
    "            print(\"x:\",x)\n",
    "            print(\"y:\",y)\n",
    "\n",
    "            # Plot\n",
    "            while tmp < len(x):\n",
    "                tmp+=1\n",
    "                plt.plot(x[0],y[0])\n",
    "                plt.plot([],[])\n",
    "                for i in range(0,tmp):\n",
    "                    plt.plot(x[i],y[i],'o')\n",
    "                time.sleep(.5)\n",
    "                if tmp==1:\n",
    "                    plt.show()\n",
    "                else:\n",
    "                    plt.show()#draw()\n",
    "        except socket.error:\n",
    "            # Will throw error every time no message is received...\n",
    "            # This is fine, just continue looping\n",
    "            '''traceback.print_exc()\n",
    "            conn.close()\n",
    "            break'''\n",
    "    else:\n",
    "        print(\"Timeout reached before connection established\")\n",
    "\n",
    "conn.close()\n",
    "print(\"Done.\")"
   ]
  }
 ],
 "metadata": {
  "kernelspec": {
   "display_name": "Python 3",
   "language": "python",
   "name": "python3"
  },
  "language_info": {
   "codemirror_mode": {
    "name": "ipython",
    "version": 3
   },
   "file_extension": ".py",
   "mimetype": "text/x-python",
   "name": "python",
   "nbconvert_exporter": "python",
   "pygments_lexer": "ipython3",
   "version": "3.6.4"
  }
 },
 "nbformat": 4,
 "nbformat_minor": 2
}
