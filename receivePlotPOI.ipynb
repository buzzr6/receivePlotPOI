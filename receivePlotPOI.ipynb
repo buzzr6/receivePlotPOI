{
 "cells": [
  {
   "cell_type": "code",
   "execution_count": 2,
   "metadata": {},
   "outputs": [],
   "source": [
    "import socket\n",
    "import time\n",
    "import json\n",
    "import matplotlib.pyplot as plt\n",
    "import numpy as np\n",
    "from threading import Thread"
   ]
  },
  {
   "cell_type": "code",
   "execution_count": 3,
   "metadata": {},
   "outputs": [],
   "source": [
    "UDP_IP_ADDRESS = \"127.0.0.1\"\n",
    "UDP_PORT_NO = 6288"
   ]
  },
  {
   "cell_type": "code",
   "execution_count": 17,
   "metadata": {},
   "outputs": [],
   "source": [
    "serverSock = socket.socket(socket.AF_INET, socket.SOCK_DGRAM)\n",
    "serverSock.bind((UDP_IP_ADDRESS, UDP_PORT_NO))"
   ]
  },
  {
   "cell_type": "code",
   "execution_count": 24,
   "metadata": {},
   "outputs": [
    {
     "name": "stdout",
     "output_type": "stream",
     "text": [
      "Msg:  {\"lat\":0.0, \"lon\":0.3, \"time\":1234.5678}\n",
      "Msg:  {\"lat\":0.0, \"lon\":0.3, \"time\":1234.5678}\n",
      "Msg:  {\"lat\":0.0, \"lon\":0.3, \"time\":1234.5678}\n",
      "Msg:  {\"lat\":0.0, \"lon\":0.3, \"time\":1234.5678}\n",
      "Msg:  {\"lat\":0.0, \"lon\":0.3, \"time\":1234.5678}\n",
      "Msg:  {\"lat\":0.0, \"lon\":0.3, \"time\":1234.5678}\n"
     ]
    },
    {
     "data": {
      "image/png": "[encoded data removed]",
      "text/plain": [
       "<matplotlib.figure.Figure at 0x254dc69d828>"
      ]
     },
     "metadata": {},
     "output_type": "display_data"
    }
   ],
   "source": [
    "x = []\n",
    "y = []\n",
    "plt.ion()\n",
    "fig = plt.figure()\n",
    "ax = fig.add_subplot(111)\n",
    "ax.scatter(x,y)\n",
    "\n",
    "timeout = time.time() + 5\n",
    "while True:\n",
    "    if time.time() > timeout:\n",
    "        break\n",
    "\n",
    "    data, addr = serverSock.recvfrom(1024)\n",
    "    #serverSock.close()\n",
    "    \n",
    "    msg = data.decode()\n",
    "    print(\"Msg: \", msg)\n",
    "    obj = json.loads(msg)\n",
    "    \n",
    "    ax.plot(obj['lat'],obj['lon'], \"or\")\n",
    "    plt.show"
   ]
  }
 ],
 "metadata": {
  "kernelspec": {
   "display_name": "Python 3",
   "language": "python",
   "name": "python3"
  },
  "language_info": {
   "codemirror_mode": {
    "name": "ipython",
    "version": 3
   },
   "file_extension": ".py",
   "mimetype": "text/x-python",
   "name": "python",
   "nbconvert_exporter": "python",
   "pygments_lexer": "ipython3",
   "version": "3.6.4"
  }
 },
 "nbformat": 4,
 "nbformat_minor": 2
}
